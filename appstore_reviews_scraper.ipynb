{
  "nbformat": 4,
  "nbformat_minor": 0,
  "metadata": {
    "colab": {
      "provenance": []
    },
    "kernelspec": {
      "name": "python3",
      "display_name": "Python 3"
    },
    "language_info": {
      "name": "python"
    }
  },
  "cells": [
    {
      "cell_type": "code",
      "source": [
        "pip install app_store_scraper"
      ],
      "metadata": {
        "colab": {
          "base_uri": "https://localhost:8080/"
        },
        "id": "C0Z7J1_CAtN_",
        "outputId": "95ded23c-fb8d-42a0-8301-5a2dce360ea8"
      },
      "execution_count": 1,
      "outputs": [
        {
          "output_type": "stream",
          "name": "stdout",
          "text": [
            "Looking in indexes: https://pypi.org/simple, https://us-python.pkg.dev/colab-wheels/public/simple/\n",
            "Collecting app_store_scraper\n",
            "  Downloading app_store_scraper-0.3.5-py3-none-any.whl (8.3 kB)\n",
            "Requirement already satisfied: requests==2.23.0 in /usr/local/lib/python3.7/dist-packages (from app_store_scraper) (2.23.0)\n",
            "Requirement already satisfied: chardet<4,>=3.0.2 in /usr/local/lib/python3.7/dist-packages (from requests==2.23.0->app_store_scraper) (3.0.4)\n",
            "Requirement already satisfied: idna<3,>=2.5 in /usr/local/lib/python3.7/dist-packages (from requests==2.23.0->app_store_scraper) (2.10)\n",
            "Requirement already satisfied: certifi>=2017.4.17 in /usr/local/lib/python3.7/dist-packages (from requests==2.23.0->app_store_scraper) (2022.6.15)\n",
            "Requirement already satisfied: urllib3!=1.25.0,!=1.25.1,<1.26,>=1.21.1 in /usr/local/lib/python3.7/dist-packages (from requests==2.23.0->app_store_scraper) (1.24.3)\n",
            "Installing collected packages: app-store-scraper\n",
            "Successfully installed app-store-scraper-0.3.5\n"
          ]
        }
      ]
    },
    {
      "cell_type": "code",
      "source": [
        "from app_store_scraper import AppStore\n",
        "import pandas as pd\n",
        "import numpy as np\n",
        "\n"
      ],
      "metadata": {
        "id": "bgAaXfCfBXDu"
      },
      "execution_count": 9,
      "outputs": []
    },
    {
      "cell_type": "code",
      "source": [
        "amzn_ring = AppStore(country='US',app_id='926252661',app_name='ring-always-home')\n",
        "amzn_ring.review(how_many=2000)"
      ],
      "metadata": {
        "colab": {
          "base_uri": "https://localhost:8080/"
        },
        "id": "stoGnNfCArIg",
        "outputId": "112d936f-64a2-4719-d12a-edf9952021bd"
      },
      "execution_count": 10,
      "outputs": [
        {
          "output_type": "stream",
          "name": "stderr",
          "text": [
            "ERROR:Base:Keyboard interrupted\n"
          ]
        }
      ]
    },
    {
      "cell_type": "code",
      "source": [
        "amzn_ring.reviews[:5]"
      ],
      "metadata": {
        "colab": {
          "base_uri": "https://localhost:8080/"
        },
        "id": "-O3GfvWrAplC",
        "outputId": "b7f9c67f-de17-4718-f3da-d548d9b411a3"
      },
      "execution_count": 11,
      "outputs": [
        {
          "output_type": "execute_result",
          "data": {
            "text/plain": [
              "[{'userName': 'Huynh Family iTunes',\n",
              "  'isEdited': False,\n",
              "  'date': datetime.datetime(2017, 10, 21, 14, 48, 8),\n",
              "  'title': 'Ring is the answer to every mothers desire to have a doorbell that doesn’t wake a baby',\n",
              "  'rating': 5,\n",
              "  'review': 'I have many ring products that all tie together seamlessly into this app. The video doorbell, new spotlight cam, stick up cam, and the brand new security system. My family, pets and I feel safe away on trips and feel like we have a great prevention from break ins. With the low cost of the video storage for all of our video devices I am always aware of what goes on in or around my house at all times. I feel secure and never have any issues setting up, connecting or using their devices. They all integrate wonderfully and I could not be happier. I have recommended to many friends and family members to get just a ring video doorbell. As a new mom with dogs it was hard when anytime someone rang, packages, whatever, our dogs would wake our baby. Now with Chime, I set a tone that doesn’t illicit barking and am aware when anyone is at the door or rings the doorbell. The motion detection is amazing and really easy to customize to not get everyone hat walks by, or you can if that’s what you want. Absolutely love this company and their products. Every time they come up with something new I’m pleased with how well thought out it is and how well it integrates.'},\n",
              " {'userName': '581 Ford',\n",
              "  'isEdited': False,\n",
              "  'developerResponse': {'id': 4737887,\n",
              "   'body': 'Hi 581 Ford, \\n\\nI do apologize for this poor Ring experience. I understand your frustration and really would like to help with resolving this for you. I would like to connect with you so that I can address your issues further. If you do decide to reach out to me, I am eager and ready to get to the bottom of this for you. \\n\\nThanks, \\n\\nKaitlyn R., Customer Satisfaction Specialist\\nKaitlyn.rosenthal@ring.com',\n",
              "   'modified': '2018-08-20T18:12:57Z'},\n",
              "  'date': datetime.datetime(2018, 8, 17, 23, 10, 13),\n",
              "  'title': 'Ring 2 not ready for prime time',\n",
              "  'rating': 2,\n",
              "  'review': 'I have a Ring 2 that’s almost worthless. I am receiving alerts but they’re several seconds delayed. My settings are set to be as fast and sensitive as possible. Same problem many other of your other customers complain about. I wish you would at least have the option of turning off the 10 minute timer that shuts down live view. Should be the customers decision to drain the battery in live view.  That’s why I bought an extra battery. Also, one of the times I tried calling you I was given the option of making an appointment for you to call me back but you never did. And Kaitlyn@Ring, don’t bother to paste your typical reply telling me to email you because you’re so concerned. I’ve read your response back to other customers so many times that I’ve memorized it. Customers should realize if you have to paste that same cookie cutter reply addressing everyone’s concern then Ring and your customers have a really big problem. I’m connected to my 2.4 GHz network and hitting roughly 8Mbps at -53 dBm power. Being an engineer I realize that the business unit and marketing/sales have more say than the technical staff at most companies. The technical people rarely want to release the product before it’s ready but the business side always makes that happen which is why your commercials on TV are so great but your product has a lot to be desired. And you Kaitlyn, I’m not sure which side of the house you’re on but I hope they’re paying you well.'},\n",
              " {'userName': 'Hcjfjfifufuf',\n",
              "  'isEdited': False,\n",
              "  'date': datetime.datetime(2022, 9, 9, 22, 4, 57),\n",
              "  'title': 'Ring Ring...',\n",
              "  'rating': 2,\n",
              "  'review': 'Update; Smart Alerts is horrible, it will not always detect and alert you of a person & sometimes family will be in house before even getting alert. Suggest turning it off- it needs a major rework. \\n\\nUpdate; Now it says person is detected and by time I can view the video is just gone, like it never happen. I saw a person in the preview.. now I will never know what they was doing. Issues with Loading. Resolution is awful. I have certifications in networking, I am skilled in getting very good connections and fixing connection issues. With all of my skills there is still connection issues with the Ring. Sometimes it will not load at all, and then you hear a knock at the door- unable to see who it is or know if someone is trying to break in. I have the Ring Floodlight, Ring Doorbell, & Ring security Cameras. All of them have the same issues. This is not a problem with my connections, but with the devices. The resolution on these cameras are AWFUL! You can barely make out faces unless they are close and still, you cannot see license plates or car model etc. If I could do it over again I would go with a regular camera set-up, even though the installation would be difficult. To their credit other brands are just as bad- such as the Arlo etc. Buy nice or buy twice! The monthly fee is lowest around and the biggest benefit. Its better than nothing... but unreliable, and undependable.'},\n",
              " {'userName': 'magnum6363',\n",
              "  'isEdited': False,\n",
              "  'date': datetime.datetime(2021, 3, 25, 21, 49, 55),\n",
              "  'title': 'Motion zones: BIG STEP backwards!!!',\n",
              "  'rating': 3,\n",
              "  'review': 'First, I want to say that I have been a fan of Ring for 3 years. In fact, I have recommended Ring over other systems to friends and family many times. I have multiple AC powered only flood cams and doorbell cams around my property.  I have AC only cams because of the detail and flexibility in the configuration of multiple motion zones on these devices.  However, in a recent update, they removed the Active checkbox that allowed for the selection of one of multiple zones defined on a cam.  As a result, you must delete your other 2 motion zones when you need one of them active.  Then, when you want them back, you must redefine them!  Why is this an issue?  Let’s say you have cams looking down on a basketball court.  When the team is practicing, you do not need to record all activity.  Instead, you just want the area/zone around the court protected by your camera system.  If someone enters the zone, you want notified.  Otherwise, no alerts.  As someone who designs interfaces and software as a profession, I can tell you that this was an unforgivable decision.  You need to think long before ever removing a powerful feature that has been inherent for years.  For this reason, my experience with the app is now a frustrating experience.  I have since stopped recommending Ring.  I am now looking for another solution.'},\n",
              " {'userName': 'Km jailjljh',\n",
              "  'isEdited': False,\n",
              "  'date': datetime.datetime(2019, 7, 19, 3, 16, 57),\n",
              "  'title': 'Can’t chime and stops working randomly',\n",
              "  'rating': 1,\n",
              "  'review': 'We’ve had our Ring Pro for over two years and have intermittently had an issue where it would stop working right after someone rang the doorbell and wouldn’t work again until it was unplugged and plugged back in. This issue has been prevalent since a few months after we purchased. Any time I called customer service they would just have me run a reset and say it was working again and that there was nothing else they could do for me. Well finally a customer service person was unexpectedly helpful and had me do all sorts of tests to check how much power it was getting and come to find out it gets enough power, but there’s some sort of ‘fluke’ issue some of the doorbells have that prevent them from being able to operate all the time when the in-house chime is also activated. And wouldn’t it happen to be that we finally figured the cause of this problem out a few months after the warranty period expired. They were gracious enough to offer a discount on purchasing a new one, but if I didn’t want to buy another possibly faulty doorbell I would need to deactivate my internal chime, and just keep checking my app to see when it stops working so I can go home and perform another reset. I just got done with another reset because I realized today that my doorbell hasn’t worked for over a week. I would definitely not recommend this doorbell to anyone, and I will be searching for a replacement as soon as I finish posting this review.'}]"
            ]
          },
          "metadata": {},
          "execution_count": 11
        }
      ]
    },
    {
      "cell_type": "code",
      "source": [
        "#df = pd.DataFrame(np.array(amzn_ring.reviews),columns = ['username','isEdited','date','title','rating','review'])\n",
        "df = pd.DataFrame.from_dict(amzn_ring.reviews)\n",
        "df.head()"
      ],
      "metadata": {
        "colab": {
          "base_uri": "https://localhost:8080/",
          "height": 424
        },
        "id": "USsYgOlPApnz",
        "outputId": "7ca8ca4d-9f46-4d4d-c010-27f9eb56c4e0"
      },
      "execution_count": 16,
      "outputs": [
        {
          "output_type": "execute_result",
          "data": {
            "text/plain": [
              "              userName  isEdited                date  \\\n",
              "0  Huynh Family iTunes     False 2017-10-21 14:48:08   \n",
              "1             581 Ford     False 2018-08-17 23:10:13   \n",
              "2         Hcjfjfifufuf     False 2022-09-09 22:04:57   \n",
              "3           magnum6363     False 2021-03-25 21:49:55   \n",
              "4          Km jailjljh     False 2019-07-19 03:16:57   \n",
              "\n",
              "                                               title  rating  \\\n",
              "0  Ring is the answer to every mothers desire to ...       5   \n",
              "1                    Ring 2 not ready for prime time       2   \n",
              "2                                       Ring Ring...       2   \n",
              "3                Motion zones: BIG STEP backwards!!!       3   \n",
              "4             Can’t chime and stops working randomly       1   \n",
              "\n",
              "                                              review  \\\n",
              "0  I have many ring products that all tie togethe...   \n",
              "1  I have a Ring 2 that’s almost worthless. I am ...   \n",
              "2  Update; Smart Alerts is horrible, it will not ...   \n",
              "3  First, I want to say that I have been a fan of...   \n",
              "4  We’ve had our Ring Pro for over two years and ...   \n",
              "\n",
              "                                   developerResponse  \n",
              "0                                                NaN  \n",
              "1  {'id': 4737887, 'body': 'Hi 581 Ford, \n",
              "\n",
              "I do a...  \n",
              "2                                                NaN  \n",
              "3                                                NaN  \n",
              "4                                                NaN  "
            ],
            "text/html": [
              "\n",
              "  <div id=\"df-3304dd7a-128e-48f6-87f5-99514afe7572\">\n",
              "    <div class=\"colab-df-container\">\n",
              "      <div>\n",
              "<style scoped>\n",
              "    .dataframe tbody tr th:only-of-type {\n",
              "        vertical-align: middle;\n",
              "    }\n",
              "\n",
              "    .dataframe tbody tr th {\n",
              "        vertical-align: top;\n",
              "    }\n",
              "\n",
              "    .dataframe thead th {\n",
              "        text-align: right;\n",
              "    }\n",
              "</style>\n",
              "<table border=\"1\" class=\"dataframe\">\n",
              "  <thead>\n",
              "    <tr style=\"text-align: right;\">\n",
              "      <th></th>\n",
              "      <th>userName</th>\n",
              "      <th>isEdited</th>\n",
              "      <th>date</th>\n",
              "      <th>title</th>\n",
              "      <th>rating</th>\n",
              "      <th>review</th>\n",
              "      <th>developerResponse</th>\n",
              "    </tr>\n",
              "  </thead>\n",
              "  <tbody>\n",
              "    <tr>\n",
              "      <th>0</th>\n",
              "      <td>Huynh Family iTunes</td>\n",
              "      <td>False</td>\n",
              "      <td>2017-10-21 14:48:08</td>\n",
              "      <td>Ring is the answer to every mothers desire to ...</td>\n",
              "      <td>5</td>\n",
              "      <td>I have many ring products that all tie togethe...</td>\n",
              "      <td>NaN</td>\n",
              "    </tr>\n",
              "    <tr>\n",
              "      <th>1</th>\n",
              "      <td>581 Ford</td>\n",
              "      <td>False</td>\n",
              "      <td>2018-08-17 23:10:13</td>\n",
              "      <td>Ring 2 not ready for prime time</td>\n",
              "      <td>2</td>\n",
              "      <td>I have a Ring 2 that’s almost worthless. I am ...</td>\n",
              "      <td>{'id': 4737887, 'body': 'Hi 581 Ford, \n",
              "\n",
              "I do a...</td>\n",
              "    </tr>\n",
              "    <tr>\n",
              "      <th>2</th>\n",
              "      <td>Hcjfjfifufuf</td>\n",
              "      <td>False</td>\n",
              "      <td>2022-09-09 22:04:57</td>\n",
              "      <td>Ring Ring...</td>\n",
              "      <td>2</td>\n",
              "      <td>Update; Smart Alerts is horrible, it will not ...</td>\n",
              "      <td>NaN</td>\n",
              "    </tr>\n",
              "    <tr>\n",
              "      <th>3</th>\n",
              "      <td>magnum6363</td>\n",
              "      <td>False</td>\n",
              "      <td>2021-03-25 21:49:55</td>\n",
              "      <td>Motion zones: BIG STEP backwards!!!</td>\n",
              "      <td>3</td>\n",
              "      <td>First, I want to say that I have been a fan of...</td>\n",
              "      <td>NaN</td>\n",
              "    </tr>\n",
              "    <tr>\n",
              "      <th>4</th>\n",
              "      <td>Km jailjljh</td>\n",
              "      <td>False</td>\n",
              "      <td>2019-07-19 03:16:57</td>\n",
              "      <td>Can’t chime and stops working randomly</td>\n",
              "      <td>1</td>\n",
              "      <td>We’ve had our Ring Pro for over two years and ...</td>\n",
              "      <td>NaN</td>\n",
              "    </tr>\n",
              "  </tbody>\n",
              "</table>\n",
              "</div>\n",
              "      <button class=\"colab-df-convert\" onclick=\"convertToInteractive('df-3304dd7a-128e-48f6-87f5-99514afe7572')\"\n",
              "              title=\"Convert this dataframe to an interactive table.\"\n",
              "              style=\"display:none;\">\n",
              "        \n",
              "  <svg xmlns=\"http://www.w3.org/2000/svg\" height=\"24px\"viewBox=\"0 0 24 24\"\n",
              "       width=\"24px\">\n",
              "    <path d=\"M0 0h24v24H0V0z\" fill=\"none\"/>\n",
              "    <path d=\"M18.56 5.44l.94 2.06.94-2.06 2.06-.94-2.06-.94-.94-2.06-.94 2.06-2.06.94zm-11 1L8.5 8.5l.94-2.06 2.06-.94-2.06-.94L8.5 2.5l-.94 2.06-2.06.94zm10 10l.94 2.06.94-2.06 2.06-.94-2.06-.94-.94-2.06-.94 2.06-2.06.94z\"/><path d=\"M17.41 7.96l-1.37-1.37c-.4-.4-.92-.59-1.43-.59-.52 0-1.04.2-1.43.59L10.3 9.45l-7.72 7.72c-.78.78-.78 2.05 0 2.83L4 21.41c.39.39.9.59 1.41.59.51 0 1.02-.2 1.41-.59l7.78-7.78 2.81-2.81c.8-.78.8-2.07 0-2.86zM5.41 20L4 18.59l7.72-7.72 1.47 1.35L5.41 20z\"/>\n",
              "  </svg>\n",
              "      </button>\n",
              "      \n",
              "  <style>\n",
              "    .colab-df-container {\n",
              "      display:flex;\n",
              "      flex-wrap:wrap;\n",
              "      gap: 12px;\n",
              "    }\n",
              "\n",
              "    .colab-df-convert {\n",
              "      background-color: #E8F0FE;\n",
              "      border: none;\n",
              "      border-radius: 50%;\n",
              "      cursor: pointer;\n",
              "      display: none;\n",
              "      fill: #1967D2;\n",
              "      height: 32px;\n",
              "      padding: 0 0 0 0;\n",
              "      width: 32px;\n",
              "    }\n",
              "\n",
              "    .colab-df-convert:hover {\n",
              "      background-color: #E2EBFA;\n",
              "      box-shadow: 0px 1px 2px rgba(60, 64, 67, 0.3), 0px 1px 3px 1px rgba(60, 64, 67, 0.15);\n",
              "      fill: #174EA6;\n",
              "    }\n",
              "\n",
              "    [theme=dark] .colab-df-convert {\n",
              "      background-color: #3B4455;\n",
              "      fill: #D2E3FC;\n",
              "    }\n",
              "\n",
              "    [theme=dark] .colab-df-convert:hover {\n",
              "      background-color: #434B5C;\n",
              "      box-shadow: 0px 1px 3px 1px rgba(0, 0, 0, 0.15);\n",
              "      filter: drop-shadow(0px 1px 2px rgba(0, 0, 0, 0.3));\n",
              "      fill: #FFFFFF;\n",
              "    }\n",
              "  </style>\n",
              "\n",
              "      <script>\n",
              "        const buttonEl =\n",
              "          document.querySelector('#df-3304dd7a-128e-48f6-87f5-99514afe7572 button.colab-df-convert');\n",
              "        buttonEl.style.display =\n",
              "          google.colab.kernel.accessAllowed ? 'block' : 'none';\n",
              "\n",
              "        async function convertToInteractive(key) {\n",
              "          const element = document.querySelector('#df-3304dd7a-128e-48f6-87f5-99514afe7572');\n",
              "          const dataTable =\n",
              "            await google.colab.kernel.invokeFunction('convertToInteractive',\n",
              "                                                     [key], {});\n",
              "          if (!dataTable) return;\n",
              "\n",
              "          const docLinkHtml = 'Like what you see? Visit the ' +\n",
              "            '<a target=\"_blank\" href=https://colab.research.google.com/notebooks/data_table.ipynb>data table notebook</a>'\n",
              "            + ' to learn more about interactive tables.';\n",
              "          element.innerHTML = '';\n",
              "          dataTable['output_type'] = 'display_data';\n",
              "          await google.colab.output.renderOutput(dataTable, element);\n",
              "          const docLink = document.createElement('div');\n",
              "          docLink.innerHTML = docLinkHtml;\n",
              "          element.appendChild(docLink);\n",
              "        }\n",
              "      </script>\n",
              "    </div>\n",
              "  </div>\n",
              "  "
            ]
          },
          "metadata": {},
          "execution_count": 16
        }
      ]
    },
    {
      "cell_type": "code",
      "source": [
        "df.to_csv('amazon_ring_appstore_reviews_2000.csv')"
      ],
      "metadata": {
        "id": "MR0cAE2XFjj5"
      },
      "execution_count": 18,
      "outputs": []
    }
  ]
}